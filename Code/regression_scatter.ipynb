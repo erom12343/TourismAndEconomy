{
 "cells": [
  {
   "cell_type": "code",
   "execution_count": 2,
   "metadata": {},
   "outputs": [],
   "source": [
    "import pandas as pd\n",
    "import numpy as np\n",
    "import matplotlib.pyplot as plt\n",
    "import seaborn as sns\n",
    "from sklearn.linear_model import LinearRegression\n",
    "from sklearn.metrics import r2_score\n",
    "\n",
    "\n",
    "file_path = \"usaSmall.csv\"\n",
    "df = pd.read_csv(file_path)\n",
    "\n",
    "# Filter data and transform values for normalization\n",
    "df = df[['Visits (000s)', 'Spend']].dropna()\n",
    "df['Log_Visits'] = np.log1p(df['Visits (000s)'])\n",
    "df['Log_Spend'] = np.log1p(df['Spend']) \n",
    "\n",
    "\n",
    "X = df['Log_Visits'].values.reshape(-1, 1)  # Exp. var\n",
    "y = df['Log_Spend'].values  # Res. var\n",
    "\n",
    "# fit model\n",
    "model = LinearRegression()\n",
    "model.fit(X, y)\n",
    "y_pred = model.predict(X)\n",
    "\n",
    "# Calculate residuals\n",
    "residuals = y - y_pred\n",
    "\n",
    "\n",
    "sns.set_style(\"whitegrid\")\n",
    "plt.figure(figsize=(10, 6))\n",
    "sns.regplot(\n",
    "    x='Log_Visits',\n",
    "    y='Log_Spend',\n",
    "    data=df,\n",
    "    scatter_kws={'color': 'blue', 'alpha': 0.6},\n",
    "    line_kws={'color': 'red'},\n",
    "    ci=95\n",
    ")\n",
    "plt.title(\"Log Transformed Linear Regression (Spending vs Visits)\", fontsize=16, fontweight='bold')\n",
    "plt.xlabel(\"Visits (thousands)\", fontsize=12, fontweight='bold')\n",
    "plt.ylabel(\"Spending (per million pounds)\", fontsize=12, fontweight='bold')\n",
    "plt.tight_layout()\n"
   ]
  },
  {
   "cell_type": "code",
   "execution_count": 3,
   "metadata": {},
   "outputs": [
    {
     "name": "stdout",
     "output_type": "stream",
     "text": [
      "Regression Equation: Log(Spend) = 0.0589 + 0.8594 * Log(Visits)\n"
     ]
    }
   ],
   "source": [
    "slope = model.coef_[0]\n",
    "intercept = model.intercept_\n",
    "print(f\"Regression Equation: Log(Spend) = {intercept:.4f} + {slope:.4f} * Log(Visits)\")"
   ]
  }
 ],
 "metadata": {
  "kernelspec": {
   "display_name": "Python 3",
   "language": "python",
   "name": "python3"
  },
  "language_info": {
   "codemirror_mode": {
    "name": "ipython",
    "version": 3
   },
   "file_extension": ".py",
   "mimetype": "text/x-python",
   "name": "python",
   "nbconvert_exporter": "python",
   "pygments_lexer": "ipython3",
   "version": "3.6.10"
  }
 },
 "nbformat": 4,
 "nbformat_minor": 2
}
